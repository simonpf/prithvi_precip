{
 "cells": [
  {
   "cell_type": "markdown",
   "id": "79a675e2-0dc9-4aa6-a23f-8e8cf1e5fb8b",
   "metadata": {},
   "source": [
    "# Regional S2S precipitation forecasting using E3SM data and the Prithvi-WxC foundation model"
   ]
  },
  {
   "cell_type": "markdown",
   "id": "30754420-c4e9-49a9-8016-173891f13adf",
   "metadata": {},
   "source": [
    "## Installation\n",
    "\n",
    "### Clone the repository\n",
    "\n",
    "Begin by cloning the repository:\n",
    "\n",
    "````\n",
    "git clone https://github.com/simonpf/prithvi_precip\n",
    "cd prithvi_precip\n",
    "````\n",
    "\n",
    "### Dependencies\n",
    "\n",
    "All required dependencies for training the Prithvi-WxC model on E3SM data are specified in the provided Conda environment file. To create the environment, run:\n",
    "\n",
    "````\n",
    "conda env create --file prithvi_precip\n",
    "````\n",
    "\n",
    "### The ``prithvi_precip`` package\n",
    "\n",
    "The prithvi_precip package includes utilities for loading E3SM data in the format expected by the Prithvi-WxC model. To install it in editable mode (useful for development), run:\n",
    "\n",
    "````\n",
    "pip install -e .\n",
    "````"
   ]
  },
  {
   "cell_type": "markdown",
   "id": "047c7884-c406-4bd3-8a45-cb32b9cbd2f9",
   "metadata": {},
   "source": [
    "## Required data"
   ]
  },
  {
   "cell_type": "markdown",
   "id": "41c48237-4d4c-4715-8a7b-5da96dfbfbc0",
   "metadata": {},
   "source": [
    "The Prithvi-WxC model makes use of additional data during both training and inference. This data comprises static input data, a climatologies of all input variables, scaling factors used to normalize the input data, and the pre-trained models. A minimal setup is available from [here](https://rain.atmos.colostate.edu/gprof_nn/e3sm).\n",
    "\n",
    "```\n",
    "wget https://rain.atmos.colostate.edu/gprof_nn/e3sm.tar.gz\n",
    "tar -xvf e3sm.tar.gz\n",
    "```\n",
    "\n",
    "An overview of how the input data is generated and the E3SM data is mapped to the Prithvi-WxC variables is provided in the notebooks ``data_preparation.ipynb`` and ``input_data.ipynb``, respectively. "
   ]
  },
  {
   "cell_type": "markdown",
   "id": "08317b11-0449-4f77-9b46-fb19d087eae1",
   "metadata": {},
   "source": [
    "## "
   ]
  }
 ],
 "metadata": {
  "kernelspec": {
   "display_name": "Python 3 (ipykernel)",
   "language": "python",
   "name": "python3"
  },
  "language_info": {
   "codemirror_mode": {
    "name": "ipython",
    "version": 3
   },
   "file_extension": ".py",
   "mimetype": "text/x-python",
   "name": "python",
   "nbconvert_exporter": "python",
   "pygments_lexer": "ipython3",
   "version": "3.13.3"
  }
 },
 "nbformat": 4,
 "nbformat_minor": 5
}
