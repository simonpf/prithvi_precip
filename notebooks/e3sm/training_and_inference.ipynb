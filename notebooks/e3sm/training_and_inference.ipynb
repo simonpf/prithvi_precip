{
 "cells": [
  {
   "cell_type": "markdown",
   "id": "7c5ef81f-394b-4bca-93db-805a085bc423",
   "metadata": {},
   "source": [
    "# Training and inference\n",
    "\n"
   ]
  },
  {
   "cell_type": "markdown",
   "id": "c609ae1f-1cb8-44a8-9768-91cd7149b210",
   "metadata": {},
   "source": [
    "## Model overview\n",
    "\n",
    "### Prithvi-WxC\n",
    "\n",
    "The Prithvi-WxC model is a transformer-based model. It operates on a regular latitude-longitude grid, which is split up into tiles. The original model was trained using tiles of size ``(30, 32)`` pixels. The tiles are embedded into tokens of size ``(2, 2)`` yielding an internal tile size of ``(15, 16)`` tokens. Both encoder and decoder consist of alternating local and global transformer blocks. The local block transform each tile independently meaning interactions are limited to tokens within the same tile. The global blocks transform the corresponding pixels in each tile allowing information to be exchanged across all tiles.\n",
    "\n",
    "![The original Prithvi-WxC architecture](prithvi_architecture.png)\n",
    "\n",
    "### Prithvi-WxC Regional\n",
    "\n",
    "To adapt the Prithvi-WxC model for regional prediction, the decoder is modified slightly. Instead of decoding all tils to product a prediction, the decoder is applied to decode only on local tile and the global transformer block are modified to perform cross attention against the encoded input data instead of self attention. This ensures that the decoder produces a regional forecast but can leverage information from the global encoded state.\n",
    "\n",
    "\n",
    "![The original Prithvi-WxC architecture](prithvi_regional_architecture.png)\n",
    "\n",
    "### Implementation\n",
    "\n",
    "The original implementation of the Prithvi-WxC model is available though the [Prithvi-WxC package](https://github.com/NASA-IMPACT/Prithvi-WxC). The regional version (PrithviWxCRegional) is implemented in the ``pytorch_retrieve`` [package](https://github.com/simonpf/pytorch_retrieve/blob/c271ef7d78f25bc4fe20090593157b87b8f663dd/pytorch_retrieve/models/prithvi_wxc.py#L2082)."
   ]
  },
  {
   "cell_type": "markdown",
   "id": "b08c5494-e8e4-4140-9c9f-f543c11c628a",
   "metadata": {},
   "source": [
    "## Running the training\n",
    "\n",
    "### Using ``pytorch_retrieve``\n",
    "\n",
    "A simple training recipe for the Prithvi-WxC using the ``pytorch_retrieve`` package is provided in the ``model_small`` directory. The directory contains three files ``model.toml``, ``training.toml``, and ``compute.toml``, which describe the model configuration, training schedule, and compute configuration, respectively. The training can be run by executing the ``pytroch_retrieve train`` command in the ``model_small`` directory.\n",
    "\n",
    "````\n",
    "cd model_small\n",
    "pytorch_retrieve train\n",
    "````\n",
    "\n",
    "The training will produce log file monitoring the training progress. It can be inspected using tensorboard (``tensorboard --logdir logs``). The training produces a \n",
    "\n",
    "### Manual training\n",
    "\n",
    "For more fine-grained control over training, the ``PrithviWxCRegional`` model can be instantiated directly yielding a PyTorch module that can be trained using the usual PyTorch or lightning workflows.\n",
    "\n",
    "> **Note**: The parameters below were chosen should be chosen to match the configuration of the pre-trained Prithvi-WxC models. If they deviate, loading of the pre-trained weights will fail. The parameters below match the configuration of the small pre-trained model. The parameters of the large model can be found [here](https://github.com/NASA-IMPACT/Prithvi-WxC/blob/main/validation/config.yaml).\n"
   ]
  },
  {
   "cell_type": "code",
   "execution_count": 1,
   "id": "9d360e44-dbd2-45cb-ae57-603b0f08d560",
   "metadata": {},
   "outputs": [],
   "source": [
    "\n",
    "from pathlib import Path\n",
    "from PrithviWxC.dataloaders.merra2 import (\n",
    "    input_scalers,\n",
    "    output_scalers,\n",
    "    static_input_scalers,\n",
    ")\n",
    "from pytorch_retrieve.models.prithvi_wxc import PrithviWxCRegional\n",
    "\n",
    "VERTICAL_VARS = [\"CLOUD\", \"H\", \"OMEGA\", \"PL\", \"QI\", \"QL\", \"QV\", \"T\", \"U\", \"V\"]\n",
    "STATIC_SURFACE_VARS = [\"FRACI\", \"FRLAND\", \"FROCEAN\", \"PHIS\"]\n",
    "SURFACE_VARS = [\n",
    "    \"EFLUX\", \"GWETROOT\", \"HFLUX\", \"LAI\", \"LWGAB\", \"LWGEM\", \"LWTUP\", \"PS\", \"QV2M\", \"SLP\",\n",
    "    \"SWGNT\", \"SWTNT\", \"T2M\", \"TQI\", \"TQL\", \"TQV\", \"TS\", \"U10M\", \"V10M\", \"Z0M\"\n",
    "]\n",
    "LEVELS = [\n",
    "    34.0, 39.0, 41.0, 43.0, 44.0, 45.0, 48.0, 51.0, 53.0, 56.0, 63.0, 68.0, 71.0, 72.0\n",
    "]\n",
    "\n",
    "# Path containing the scaling factors\n",
    "scaling_factors = Path(\"/home/simon/data/e3sm/scaling_factors\")\n",
    "in_mu, in_sig = input_scalers(\n",
    "    SURFACE_VARS,\n",
    "    VERTICAL_VARS,\n",
    "    LEVELS,\n",
    "    str(scaling_factors / \"musigma_surface.nc\"),\n",
    "    str(scaling_factors / \"musigma_vertical.nc\"),\n",
    ")\n",
    "output_sig = output_scalers(\n",
    "    SURFACE_VARS,\n",
    "    VERTICAL_VARS,\n",
    "    LEVELS,\n",
    "    str(scaling_factors / \"anomaly_variance_surface.nc\"),\n",
    "    str(scaling_factors / \"anomaly_variance_vertical.nc\"),\n",
    ")\n",
    "\n",
    "static_mu, static_sig = static_input_scalers(\n",
    "    str(scaling_factors / \"musigma_surface.nc\"),\n",
    "    STATIC_SURFACE_VARS,\n",
    ")\n",
    "\n",
    "# Parameters are chosen to match the small Prithvi-WxC model.\n",
    "model = PrithviWxCRegional(\n",
    "    in_channels=160,\n",
    "    input_size_time=2,\n",
    "    in_channels_static=8,\n",
    "    input_scalers_epsilon=0.0,\n",
    "    static_input_scalers_epsilon=0.0,\n",
    "    n_lats_px=180,\n",
    "    n_lons_px=360,\n",
    "    patch_size_px=[2, 2],\n",
    "    mask_unit_size_px=[20, 20],\n",
    "    embed_dim=1024,\n",
    "    n_blocks_encoder=8,\n",
    "    n_blocks_decoder=4,\n",
    "    mlp_multiplier=4,\n",
    "    n_heads=16,\n",
    "    dropout=0.0,\n",
    "    drop_path=0.0,\n",
    "    parameter_dropout=0.0,\n",
    "    positional_encoding=\"fourier\",\n",
    "    encoder_shifting=True,\n",
    "    decoder_shifting=False,\n",
    "    mask_ratio_inputs=0.0,\n",
    "    residual=\"climate\",\n",
    "    masking_mode=\"both\",\n",
    "    # Activate activate checpointing to reduce memory footprint.\n",
    "    checkpoint_encoder=[0, 1, 2, 3, 4, 5, 6, 7, 8, 9, 10, 11, 12, 13, 14, 15, 16],\n",
    "    checkpoint_decoder=[0, 1, 2, 3, 4, 5, 6, 7, 8],\n",
    "    input_scalers_mu=in_mu,\n",
    "    input_scalers_sigma=in_sig,\n",
    "    static_input_scalers_mu= static_mu,\n",
    "    static_input_scalers_sigma= static_sig,\n",
    "    output_scalers= output_sig ** 0.5,\n",
    "    mask_ratio_targets=0.0\n",
    ")\n"
   ]
  },
  {
   "cell_type": "markdown",
   "id": "1bbc9455-7f4f-4f0c-b539-d3d951d15ce7",
   "metadata": {},
   "source": [
    "## Inference\n",
    "\n",
    "The code below demsonstrates how to perform inference with model trained using the ``pytorch_retrieve`` package. The model is trained using a quantile loss function providing estimates of 32 quantiles of the posterior distribution. The output tensor provides functionality to calculate the expected values as well as probabilities of exceeding or falling below arbitrary thresholds."
   ]
  },
  {
   "cell_type": "code",
   "execution_count": 2,
   "id": "8393ee67-28cb-4f5d-8ba8-eebc09aea022",
   "metadata": {},
   "outputs": [],
   "source": [
    "%load_ext autoreload\n",
    "%autoreload 2\n",
    "from pathlib import PosixPath\n",
    "import torch\n",
    "torch.serialization.add_safe_globals([PosixPath])"
   ]
  },
  {
   "cell_type": "code",
   "execution_count": 3,
   "id": "448c0af1-842f-44c6-8fa7-341e7cd227c7",
   "metadata": {},
   "outputs": [
    {
     "data": {
      "text/plain": [
       "torch.serialization.safe_globals"
      ]
     },
     "execution_count": 3,
     "metadata": {},
     "output_type": "execute_result"
    }
   ],
   "source": [
    "torch.serialization.safe_globals"
   ]
  },
  {
   "cell_type": "code",
   "execution_count": 4,
   "id": "f67b891b-e3af-4bdd-ba95-ac24eb00bf5c",
   "metadata": {},
   "outputs": [
    {
     "name": "stdout",
     "output_type": "stream",
     "text": [
      "env: PRITHVI_DATA_PATH=/data/precipfm/training_data/climatology\n"
     ]
    }
   ],
   "source": [
    "%env PRITHVI_DATA_PATH=/data/precipfm/training_data/climatology"
   ]
  },
  {
   "cell_type": "code",
   "execution_count": 53,
   "id": "2b915eea-2df8-4dc1-b38d-01027ef2c423",
   "metadata": {},
   "outputs": [],
   "source": [
    "from pathlib import Path\n",
    "from pytorch_retrieve import load_model\n",
    "data_path = Path(\"/home/simon/data/e3sm\")\n",
    "model = load_model(data_path / \"model_small\" / \"prithvi_regional_small.pt\").eval()"
   ]
  },
  {
   "cell_type": "code",
   "execution_count": 55,
   "id": "6bf690b1-2a80-4f28-8ad2-0e6b2ba2cb13",
   "metadata": {},
   "outputs": [],
   "source": [
    "from prithvi_precip.e3sm import E3SMS2SDataset\n",
    "dataset = E3SMS2SDataset(\n",
    "    data_path / \"training_data\"\n",
    ")"
   ]
  },
  {
   "cell_type": "code",
   "execution_count": 73,
   "id": "4172efe1-37f2-48f8-8885-c93b8e58d019",
   "metadata": {},
   "outputs": [],
   "source": [
    "inpt, target = dataset[-1]\n",
    "batch = {name: tnsr[None] for name, tnsr in inpt.items()}\n",
    "\n",
    "with torch.no_grad():\n",
    "    y_pred = model(batch)\n",
    "    # The full output are 32 quantiles of the posterior distribution p(y | x).\n",
    "    surface_precip_quantiles = y_pred[\"surface_precip\"].cpu().float().numpy()\n",
    "    # Calculate the mean as a point estimate.\n",
    "    surface_precip_mean = y_pred[\"surface_precip\"].expected_value().cpu().float().numpy()\n",
    "    # Probability of positive anomaly.\n",
    "    surface_precip_pos = y_pred[\"surface_precip\"].probability_greater_than(0).cpu().float().numpy()\n",
    "    # Probability of negative anomaly exceeding 0.1 mm / h.\n",
    "    surface_precip_neg = y_pred[\"surface_precip\"].probability_less_than(-0.1).cpu().float().numpy()"
   ]
  },
  {
   "cell_type": "code",
   "execution_count": 81,
   "id": "824d509e-20c0-4818-8fe5-75b9bf811177",
   "metadata": {},
   "outputs": [
    {
     "data": {
      "text/plain": [
       "Text(0.5, 0.98, 'Lead time: 16 D')"
      ]
     },
     "execution_count": 81,
     "metadata": {},
     "output_type": "execute_result"
    },
    {
     "data": {
      "image/png": "[encoded data removed]",
      "text/plain": [
       "<Figure size 1600x500 with 6 Axes>"
      ]
     },
     "metadata": {},
     "output_type": "display_data"
    }
   ],
   "source": [
    "import matplotlib.pyplot as plt\n",
    "from matplotlib.gridspec import GridSpec\n",
    "from matplotlib.colors import Normalize\n",
    "norm = Normalize(-0.1, 0.1)\n",
    "\n",
    "gs = GridSpec(2, 4, height_ratios=[1.0, 0.1])\n",
    "fig = plt.figure(figsize=(16, 5))\n",
    "\n",
    "axs = [fig.add_subplot(gs[0, ind]) for ind in range(4)]\n",
    "\n",
    "m = axs[0].pcolormesh(target, norm=norm, cmap=\"YlGnBu\")\n",
    "axs[0].set_title(\"(a) Truth\")\n",
    "axs[0].set_aspect(1.0)\n",
    "\n",
    "m = axs[1].pcolormesh(surface_precip_mean[0, 0], norm=norm, cmap=\"YlGnBu\")\n",
    "axs[1].set_title(\"(b) Predicted mean\")\n",
    "axs[1].set_yticklabels([])\n",
    "axs[1].set_aspect(1.0)\n",
    "\n",
    "cax = fig.add_subplot(gs[1, :2])\n",
    "plt.colorbar(m, cax=cax, label=\"Precipitation anomaly [mm / h]\", orientation=\"horizontal\")\n",
    "\n",
    "m = axs[2].pcolormesh(surface_precip_pos[0, 0], vmin=0, vmax=1, cmap=\"YlGnBu\")\n",
    "axs[2].set_title(\"(c) p(P) > 0.0\")\n",
    "axs[2].set_yticklabels([])\n",
    "axs[2].set_aspect(1.0)\n",
    "\n",
    "axs[3].pcolormesh(surface_precip_neg[0, 0], vmin=0, vmax=1, cmap=\"YlGnBu\")\n",
    "axs[3].set_title(\"(d) p(P) < -0.1\")\n",
    "axs[3].set_yticklabels([])\n",
    "axs[3].set_aspect(1.0)\n",
    "\n",
    "cax = fig.add_subplot(gs[1, 2:])\n",
    "plt.colorbar(m, cax=cax, label=\"Probability\", orientation=\"horizontal\")\n",
    "\n",
    "fig.suptitle(f\"Lead time: {int(batch[\"lead_time\"][0].item() // 24)} D\")"
   ]
  }
 ],
 "metadata": {
  "kernelspec": {
   "display_name": "Python 3 (ipykernel)",
   "language": "python",
   "name": "python3"
  },
  "language_info": {
   "codemirror_mode": {
    "name": "ipython",
    "version": 3
   },
   "file_extension": ".py",
   "mimetype": "text/x-python",
   "name": "python",
   "nbconvert_exporter": "python",
   "pygments_lexer": "ipython3",
   "version": "3.13.3"
  }
 },
 "nbformat": 4,
 "nbformat_minor": 5
}
