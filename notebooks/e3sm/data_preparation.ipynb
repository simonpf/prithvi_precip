{
 "cells": [
  {
   "cell_type": "markdown",
   "id": "d187a752-548b-433e-93ad-849b7e104082",
   "metadata": {},
   "source": [
    "# Data preparation\n",
    "\n",
    "In addition to dynamic input data consisting of various of surface and atmospheric variables, the Pritvhi-WxC model expects additional, static input data. More specifically, the model requires:\n",
    "\n",
    " 1. Static input data : Latitude and longitude coordinates, day of year, time of day, ice fraction, land fraction, and geopotential height\n",
    " 2. A climatology of the dynamic input variables at the same resolution as the input data\n",
    " 3. Mean and standard deviation of all dynamic input variables as well as the ice fraction, land fracion, and geopotential height\n",
    "\n",
    "This notebook prepares the required static data for the E3SM S2S forecasting. The prepared data is available [here](https://rain.atmos.colostate.edu/gprof_nn/e3sm/). The code below is retained mostly for future reference.\n",
    "\n",
    "> **Note:** The static input data and the climatology can be considered final and are ready for scaling up the training to larger training datasets. The scaling factors should ideally be recomputed using the full training data when it is available.\n"
   ]
  },
  {
   "cell_type": "code",
   "execution_count": 65,
   "id": "bd32b5dc-b3f0-458c-a822-666e0d780058",
   "metadata": {},
   "outputs": [
    {
     "name": "stdout",
     "output_type": "stream",
     "text": [
      "The autoreload extension is already loaded. To reload it, use:\n",
      "  %reload_ext autoreload\n"
     ]
    }
   ],
   "source": [
    "%load_ext autoreload\n",
    "%autoreload 2\n",
    "from pathlib import Path\n",
    "import numpy as np\n",
    "import matplotlib.pyplot as plt\n",
    "import xarray as xr"
   ]
  },
  {
   "cell_type": "code",
   "execution_count": 67,
   "id": "ce7d6566-ef50-4d03-af47-24c612cc4af0",
   "metadata": {},
   "outputs": [],
   "source": [
    "data_path = Path(\"/home/simon/data/e3sm/\")"
   ]
  },
  {
   "cell_type": "markdown",
   "id": "73174e79-c9a2-4513-b673-8eb13b835466",
   "metadata": {},
   "source": [
    "## Climatology data\n",
    "\n",
    "The code below interpolates the original Prithvi-WxC climatology data (available from [here](https://huggingface.co/ibm-nasa-geospatial/Prithvi-WxC-1.0-2300M/tree/main/climatology)) to the E3SM grid."
   ]
  },
  {
   "cell_type": "code",
   "execution_count": 2,
   "id": "cce3efd1-52f0-4837-8c38-2b80abc83120",
   "metadata": {},
   "outputs": [],
   "source": [
    "prithvi_climatology = sorted(list((data_path / \"climatology/\").glob(\"climate*_hour00*.nc\")))\n",
    "output_path = Path(\"/data/e3sm/climatology\")"
   ]
  },
  {
   "cell_type": "code",
   "execution_count": 3,
   "id": "89ad391d-69c7-406e-8321-d96439159de8",
   "metadata": {
    "scrolled": true
   },
   "outputs": [
    {
     "name": "stderr",
     "output_type": "stream",
     "text": [
      "0it [00:00, ?it/s]\n"
     ]
    }
   ],
   "source": [
    "from tqdm import tqdm\n",
    "\n",
    "for path in tqdm(prithvi_climatology):\n",
    "    data = xr.load_dataset(path)\n",
    "    lons = data.lon.data\n",
    "    lons[lons < 0] += 360\n",
    "    data = data.assign_coords(lon=lons).sortby(\"lon\")\n",
    "    data = data.interp(lat=lats_e3sm, lon=lons_e3sm, method=\"nearest\", kwargs={\"fill_value\": \"extrapolate\"})\n",
    "    data.to_netcdf(output_path / path.name)\n",
    "    "
   ]
  },
  {
   "cell_type": "markdown",
   "id": "8aa67352-01e1-4701-a134-a54653b3cc83",
   "metadata": {},
   "source": [
    "## Static input data\n",
    "\n",
    "The code below interpolates the static MERRA-2 data to the E3SM grid. I have not included the original MERRA-2 static data in the example data, so this code can't be re-run. However, that staic input data can be considered final and will like not require to be updated."
   ]
  },
  {
   "cell_type": "code",
   "execution_count": 177,
   "id": "dfaadf25-8cf1-4fef-884a-d01778467e7d",
   "metadata": {},
   "outputs": [],
   "source": [
    "static_data = xr.load_dataset(\"/data/precipfm/training_data/static/merra2_static.nc\")\n",
    "lons = static_data.longitude.data\n",
    "lons[lons < 0] += 360\n",
    "static_data = static_data.assign_coords(longitude=lons).sortby(\"longitude\")\n",
    "static_data = static_data.interp(latitude=lats_e3sm, longitude=lons_e3sm, method=\"nearest\", kwargs={\"fill_value\": \"extrapolate\"})\n",
    "\n",
    "output_file = data_path / \"static/static.nc\"\n",
    "output_file.parent.mkdir(exist_ok=True)\n",
    "encoding = {\n",
    "    var: {\"zlib\": True} for var in static_data\n",
    "}\n",
    "static_data.to_netcdf(output_file, encoding=encoding)"
   ]
  },
  {
   "cell_type": "markdown",
   "id": "cd197284-a85d-4f99-9fd2-89f3c9704187",
   "metadata": {},
   "source": [
    "## Mean and standard deviation of input data\n",
    "\n",
    "The Prithvi-WxC model is quite sensitive to the scaling of the input data. Below we recalculate the statistics of the input variables from the E3SM S2S input dataset and overwrite the corresponding fields in the scaling files."
   ]
  },
  {
   "cell_type": "code",
   "execution_count": 68,
   "id": "f2f84bb6-e7f9-4797-b8e4-3519cabbbea6",
   "metadata": {},
   "outputs": [],
   "source": [
    "scaling_data = data_path / \"scaling_factors/\"\n",
    "musigma_surface = xr.load_dataset(scaling_data / \"musigma_surface.nc\")\n",
    "musigma_vertical = xr.load_dataset(scaling_data / \"musigma_vertical.nc\")"
   ]
  },
  {
   "cell_type": "code",
   "execution_count": 69,
   "id": "aba7ec03-67ac-442b-a25e-cb595a0c1ef0",
   "metadata": {},
   "outputs": [
    {
     "data": {
      "text/plain": [
       "324"
      ]
     },
     "execution_count": 69,
     "metadata": {},
     "output_type": "execute_result"
    }
   ],
   "source": [
    "from prithvi_precip.e3sm import E3SMS2SDataset\n",
    "dataset = E3SMS2SDataset(\n",
    "    data_path / \"training_data\"\n",
    ")\n",
    "len(dataset)"
   ]
  },
  {
   "cell_type": "code",
   "execution_count": 70,
   "id": "9fa2ff25-3c62-481c-9828-e688fda4c378",
   "metadata": {
    "scrolled": true
   },
   "outputs": [
    {
     "name": "stderr",
     "output_type": "stream",
     "text": [
      "  0%|                                                                                                              | 0/324 [00:00<?, ?it/s]"
     ]
    },
    {
     "name": "stdout",
     "output_type": "stream",
     "text": [
      "[  0.5   1.5   2.5   3.5   4.5   5.5   6.5   7.5   8.5   9.5  10.5  11.5\n",
      "  12.5  13.5  14.5  15.5  16.5  17.5  18.5  19.5  20.5  21.5  22.5  23.5\n",
      "  24.5  25.5  26.5  27.5  28.5  29.5  30.5  31.5  32.5  33.5  34.5  35.5\n",
      "  36.5  37.5  38.5  39.5  40.5  41.5  42.5  43.5  44.5  45.5  46.5  47.5\n",
      "  48.5  49.5  50.5  51.5  52.5  53.5  54.5  55.5  56.5  57.5  58.5  59.5\n",
      "  60.5  61.5  62.5  63.5  64.5  65.5  66.5  67.5  68.5  69.5  70.5  71.5\n",
      "  72.5  73.5  74.5  75.5  76.5  77.5  78.5  79.5  80.5  81.5  82.5  83.5\n",
      "  84.5  85.5  86.5  87.5  88.5  89.5  90.5  91.5  92.5  93.5  94.5  95.5\n",
      "  96.5  97.5  98.5  99.5 100.5 101.5 102.5 103.5 104.5 105.5 106.5 107.5\n",
      " 108.5 109.5 110.5 111.5 112.5 113.5 114.5 115.5 116.5 117.5 118.5 119.5\n",
      " 120.5 121.5 122.5 123.5 124.5 125.5 126.5 127.5 128.5 129.5 130.5 131.5\n",
      " 132.5 133.5 134.5 135.5 136.5 137.5 138.5 139.5 140.5 141.5 142.5 143.5\n",
      " 144.5 145.5 146.5 147.5 148.5 149.5 150.5 151.5 152.5 153.5 154.5 155.5\n",
      " 156.5 157.5 158.5 159.5 160.5 161.5 162.5 163.5 164.5 165.5 166.5 167.5\n",
      " 168.5 169.5 170.5 171.5 172.5 173.5 174.5 175.5 176.5 177.5 178.5 179.5\n",
      " 180.5 181.5 182.5 183.5 184.5 185.5 186.5 187.5 188.5 189.5 190.5 191.5\n",
      " 192.5 193.5 194.5 195.5 196.5 197.5 198.5 199.5 200.5 201.5 202.5 203.5\n",
      " 204.5 205.5 206.5 207.5 208.5 209.5 210.5 211.5 212.5 213.5 214.5 215.5\n",
      " 216.5 217.5 218.5 219.5 220.5 221.5 222.5 223.5 224.5 225.5 226.5 227.5\n",
      " 228.5 229.5 230.5 231.5 232.5 233.5 234.5 235.5 236.5 237.5 238.5 239.5\n",
      " 240.5 241.5 242.5 243.5 244.5 245.5 246.5 247.5 248.5 249.5 250.5 251.5\n",
      " 252.5 253.5 254.5 255.5 256.5 257.5 258.5 259.5 260.5 261.5 262.5 263.5\n",
      " 264.5 265.5 266.5 267.5 268.5 269.5 270.5 271.5 272.5 273.5 274.5 275.5\n",
      " 276.5 277.5 278.5 279.5 280.5 281.5 282.5 283.5 284.5 285.5 286.5 287.5\n",
      " 288.5 289.5 290.5 291.5 292.5 293.5 294.5 295.5 296.5 297.5 298.5 299.5\n",
      " 300.5 301.5 302.5 303.5 304.5 305.5 306.5 307.5 308.5 309.5 310.5 311.5\n",
      " 312.5 313.5 314.5 315.5 316.5 317.5 318.5 319.5 320.5 321.5 322.5 323.5\n",
      " 324.5 325.5 326.5 327.5 328.5 329.5 330.5 331.5 332.5 333.5 334.5 335.5\n",
      " 336.5 337.5 338.5 339.5 340.5 341.5 342.5 343.5 344.5 345.5 346.5 347.5\n",
      " 348.5 349.5 350.5 351.5 352.5 353.5 354.5 355.5 356.5 357.5 358.5 359.5] [-89.5 -88.5 -87.5 -86.5 -85.5 -84.5 -83.5 -82.5 -81.5 -80.5 -79.5 -78.5\n",
      " -77.5 -76.5 -75.5 -74.5 -73.5 -72.5 -71.5 -70.5 -69.5 -68.5 -67.5 -66.5\n",
      " -65.5 -64.5 -63.5 -62.5 -61.5 -60.5 -59.5 -58.5 -57.5 -56.5 -55.5 -54.5\n",
      " -53.5 -52.5 -51.5 -50.5 -49.5 -48.5 -47.5 -46.5 -45.5 -44.5 -43.5 -42.5\n",
      " -41.5 -40.5 -39.5 -38.5 -37.5 -36.5 -35.5 -34.5 -33.5 -32.5 -31.5 -30.5\n",
      " -29.5 -28.5 -27.5 -26.5 -25.5 -24.5 -23.5 -22.5 -21.5 -20.5 -19.5 -18.5\n",
      " -17.5 -16.5 -15.5 -14.5 -13.5 -12.5 -11.5 -10.5  -9.5  -8.5  -7.5  -6.5\n",
      "  -5.5  -4.5  -3.5  -2.5  -1.5  -0.5   0.5   1.5   2.5   3.5   4.5   5.5\n",
      "   6.5   7.5   8.5   9.5  10.5  11.5  12.5  13.5  14.5  15.5  16.5  17.5\n",
      "  18.5  19.5  20.5  21.5  22.5  23.5  24.5  25.5  26.5  27.5  28.5  29.5\n",
      "  30.5  31.5  32.5  33.5  34.5  35.5  36.5  37.5  38.5  39.5  40.5  41.5\n",
      "  42.5  43.5  44.5  45.5  46.5  47.5  48.5  49.5  50.5  51.5  52.5  53.5\n",
      "  54.5  55.5  56.5  57.5  58.5  59.5  60.5  61.5  62.5  63.5  64.5  65.5\n",
      "  66.5  67.5  68.5  69.5  70.5  71.5  72.5  73.5  74.5  75.5  76.5  77.5\n",
      "  78.5  79.5  80.5  81.5  82.5  83.5  84.5  85.5  86.5  87.5  88.5  89.5]\n"
     ]
    },
    {
     "name": "stderr",
     "output_type": "stream",
     "text": [
      "\n",
      "Calculating precipitation climatology:   0%|                                                                         | 0/1 [00:00<?, ?it/s]\u001b[A\n",
      "Calculating precipitation climatology: 100%|█████████████████████████████████████████████████████████████████| 1/1 [00:01<00:00,  1.06s/it]\u001b[A\n",
      "100%|████████████████████████████████████████████████████████████████████████████████████████████████████| 324/324 [10:43<00:00,  1.99s/it]\n",
      "/tmp/ipykernel_5920/47826920.py:19: RuntimeWarning: invalid value encountered in sqrt\n",
      "  x_sigma = np.sqrt(xx_sum / x_cts - x_mean ** 2)\n"
     ]
    }
   ],
   "source": [
    "from tqdm import tqdm\n",
    "\n",
    "x_sum = None\n",
    "xx_sum = None\n",
    "x_cts = None\n",
    "\n",
    "for ind in tqdm(range(len(dataset))):\n",
    "    x, y = dataset[ind]\n",
    "    if x_sum is None:\n",
    "        x_sum = x[\"x\"].numpy().sum(axis=(0, 2, 3))\n",
    "        xx_sum = (x[\"x\"] * x[\"x\"]).numpy().sum(axis=(0, 2, 3))\n",
    "        x_cts = np.isfinite((x[\"x\"]).numpy()).sum(axis=(0, 2, 3))\n",
    "    else:\n",
    "        x_sum += x[\"x\"].numpy().sum(axis=(0, 2, 3))\n",
    "        xx_sum += (x[\"x\"] * x[\"x\"]).numpy().sum(axis=(0, 2, 3))\n",
    "        x_cts += np.isfinite((x[\"x\"]).numpy()).sum(axis=(0, 2, 3))\n",
    "\n",
    "x_mean = x_sum / x_cts\n",
    "x_sigma = np.sqrt(xx_sum / x_cts - x_mean ** 2)"
   ]
  },
  {
   "cell_type": "code",
   "execution_count": 44,
   "id": "a931db92-16a2-47ee-bab4-2c15f44dd9cd",
   "metadata": {},
   "outputs": [],
   "source": [
    "x_sigma = np.nan_to_num(x_sigma, nan=1.0)\n",
    "x_sigma = np.maximum(x_sigma, 1e-6)"
   ]
  },
  {
   "cell_type": "code",
   "execution_count": 54,
   "id": "3a20ea5b-f898-4407-a44a-36a7b312a6e6",
   "metadata": {},
   "outputs": [],
   "source": [
    "from prithvi_precip.utils import SURFACE_VARS\n",
    "\n",
    "for ind, surface_var in enumerate(SURFACE_VARS):\n",
    "    musigma_surface[surface_var].data = np.array([x_mean[ind], x_sigma[ind]])\n",
    "\n",
    "musigma_surface.to_netcdf(scaling_data / \"musigma_surface.nc\", engine=\"h5netcdf\")"
   ]
  },
  {
   "cell_type": "code",
   "execution_count": 56,
   "id": "6f0c4132-4a80-4a91-9418-10cb0df286bb",
   "metadata": {},
   "outputs": [],
   "source": [
    "from prithvi_precip.utils import VERTICAL_VARS\n",
    "\n",
    "for ind, vert_var in enumerate(VERTICAL_VARS):\n",
    "    start_ind = 20 + 14 * ind\n",
    "    stop_ind = start_ind + 14\n",
    "    musigma_vertical[vert_var].data = np.stack(\n",
    "        [np.flip(x_mean[start_ind:stop_ind]), np.flip(x_sigma[start_ind:stop_ind])]\n",
    "    )\n",
    "\n",
    "musigma_vertical.to_netcdf(scaling_data / \"musigma_vertical.nc\", engine=\"h5netcdf\")"
   ]
  }
 ],
 "metadata": {
  "kernelspec": {
   "display_name": "Python 3 (ipykernel)",
   "language": "python",
   "name": "python3"
  },
  "language_info": {
   "codemirror_mode": {
    "name": "ipython",
    "version": 3
   },
   "file_extension": ".py",
   "mimetype": "text/x-python",
   "name": "python",
   "nbconvert_exporter": "python",
   "pygments_lexer": "ipython3",
   "version": "3.13.3"
  }
 },
 "nbformat": 4,
 "nbformat_minor": 5
}
